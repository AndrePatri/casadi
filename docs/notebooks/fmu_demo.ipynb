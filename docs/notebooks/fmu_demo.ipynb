{
 "cells": [
  {
   "attachments": {},
   "cell_type": "markdown",
   "id": "muslim-trinidad",
   "metadata": {},
   "source": [
    "# New FMU interface in CasADi\n",
    "Joel Andersson (joel@jaeandersson.com)\n",
    "\n",
    "Last updated April 14, 2023"
   ]
  },
  {
   "cell_type": "markdown",
   "id": "experienced-prayer",
   "metadata": {},
   "source": [
    "Contents:\n",
    " * Loading FMUs\n",
    " * Generating differentiable function objects from FMUs\n",
    "   - First order derivatives\n",
    "   - Second order derivatives\n",
    " * Simulating an FMU\n",
    " * Dynamic discretization - Implicit Runge-Kutta method\n",
    " * Solving nonlinear systems of equations\n",
    " * Forward/adjoint sentivity analysis\n",
    " * Solving nonlinear programs (NLPs) with IPOPT\n",
    " * Implementing dynamic optimization - direct collocation"
   ]
  },
  {
   "attachments": {},
   "cell_type": "markdown",
   "id": "stopped-alfred",
   "metadata": {},
   "source": [
    "## Introduction\n",
    "\n",
    "CasADi has two existing foreign function interfaces (FFI):\n",
    " * Low level CasADi's C API -- same as the C code generated from CasADi\n",
    " * High level interface based on polymorphism:\n",
    "   - Inherit from abstract base class, implement methods\n",
    "   - Works from C++, Python, MATLAB/Octave\n",
    " * Neither suitable for FMI\n",
    "   - CasADi functions are \"pure\" / state-less, FMI has state\n",
    "   - Existing interfaces assume dimensions and sparsity patterns known a priori, not the case for FMI\n",
    "\n",
    "The CasADi FMI interface represents a new way to import *differentiable* models into CasADi:\n",
    " * No external dependencies - interact directly with the FMU C API and XML API\n",
    " * Based on CasADi's existing interface to dynamically linked libraries (DLL)\n",
    "   - Mature feature in CasADi - works in Windows, OSX, Linux\n",
    "   - Compatible with CasADi's Clang-based just-in-time compiler\n",
    " * CasADi core feature: Use from C++, Python, MATLAB/Octave"
   ]
  },
  {
   "attachments": {},
   "cell_type": "markdown",
   "id": "automatic-contamination",
   "metadata": {},
   "source": [
    "## Modelica Example\n",
    "\n",
    "Consider the following simple dynamic model corresponding to a controlled Van der Pol oscillator:\n",
    "$$\n",
    "\\begin{array}{l}\n",
    "\\dot{x}_1 = (1-x_2^2) \\, x_1 - x_2 + u \\\\\n",
    "\\dot{x}_2 = x_1 \\\\\n",
    "\\end{array}\n",
    "$$\n",
    "with the initial conditions for the two states given by $x_1(0) = 0$, $x_2(0) = 1$. The model has a free control $u(t) \\in [-1, 1]$.\n",
    "\n",
    "We can write this model in Modelica as follows:"
   ]
  },
  {
   "cell_type": "code",
   "execution_count": 1,
   "id": "outer-convenience",
   "metadata": {},
   "outputs": [
    {
     "name": "stdout",
     "output_type": "stream",
     "text": [
      "model vdp\n",
      "  Real x1(start=0, fixed = true);\n",
      "  Real x2(start=1, fixed = true);\n",
      "  input Real u(min = -1, max = 1);\n",
      "equation\n",
      "  der(x1) = (1-x2^2)*x1 - x2 + u;\n",
      "  der(x2) = x1;\n",
      "end vdp;\n",
      "\n"
     ]
    }
   ],
   "source": [
    "# Toy example: Van der Pol oscillator\n",
    "mofile = 'vdp.mo'\n",
    "with open(mofile, 'r') as myfile: print(myfile.read())"
   ]
  },
  {
   "attachments": {},
   "cell_type": "markdown",
   "id": "covered-argentina",
   "metadata": {},
   "source": [
    "## Compiling the model into an FMU\n",
    "Different tools exist to compile Modelica models like these into FMUs.\n",
    "\n",
    "Below is a code snippet for generating FMUs using two different Modelica compilers,\n",
    "the (closed-source) OCT compiler from Modelon and the open-source OpenModelica compiler:"
   ]
  },
  {
   "cell_type": "code",
   "execution_count": 2,
   "id": "statistical-pepper",
   "metadata": {},
   "outputs": [
    {
     "name": "stdout",
     "output_type": "stream",
     "text": [
      "translateModelFMU warnings:\n",
      "\n",
      "Compiled vdp.mo into /home/jaeandersson/dev/casadi/docs/notebooks/vdp.fmu using OpenModelica in 1.23655 s\n"
     ]
    }
   ],
   "source": [
    "#compiler = 'OCT'\n",
    "compiler = 'OpenModelica'\n",
    "from time import time\n",
    "t1 = time()\n",
    "if compiler == 'OCT':    \n",
    "  # Compile using OCT, cf. OPTIMICA Compiler Toolkit (OCT) User's Guide\n",
    "  from pymodelica import compile_fmu\n",
    "  compiler_options = dict(generate_ode_jacobian = True)\n",
    "  fmu_file = compile_fmu('vdp', [mofile], compiler_options = compiler_options)\n",
    "elif compiler == 'OpenModelica':\n",
    "  # Compile using OpenModelica, cf. the OpenModelica User's Guide\n",
    "  from OMPython import OMCSessionZMQ\n",
    "  omc = OMCSessionZMQ()\n",
    "  if omc.loadFile(mofile).startswith('false'):\n",
    "    raise Exception('Modelica compilation failed: {}'.format(omc.sendExpression('getErrorString()')))\n",
    "  fmu_file = omc.sendExpression('translateModelFMU({})'.format('vdp'))\n",
    "  flag = omc.sendExpression('getErrorString()')\n",
    "  if not fmu_file.endswith('.fmu'): raise Exception('FMU generation failed: {}'.format(flag))\n",
    "  print(\"translateModelFMU warnings:\\n{}\".format(flag))\n",
    "else:\n",
    "  raise Exception('Unknown compiler: ' + compiler)\n",
    "print('Compiled %s into %s using %s in %g s' % (mofile, fmu_file, compiler, time() - t1))"
   ]
  },
  {
   "attachments": {},
   "cell_type": "markdown",
   "id": "favorite-error",
   "metadata": {},
   "source": [
    "## Unzippling the FMU\n",
    "An FMU is essentially a ZIP file containing both meta information in the form of an XML file and compiled dynamic libraries for one or more platoforms.\n",
    "\n",
    "CasADi does *not* ship with a ZIP utility, so before the the FMU can be loaded, the user needs to unzip it.\n",
    "In Python, we can easily do the unzipping with the `zipfile` package:"
   ]
  },
  {
   "cell_type": "code",
   "execution_count": 3,
   "id": "immune-question",
   "metadata": {},
   "outputs": [
    {
     "name": "stdout",
     "output_type": "stream",
     "text": [
      "Unzipped /home/jaeandersson/dev/casadi/docs/notebooks/vdp.fmu into /home/jaeandersson/dev/casadi/docs/notebooks/vdp\n"
     ]
    }
   ],
   "source": [
    "import os\n",
    "import zipfile\n",
    "# Unzip FMU\n",
    "unzipped_name = mofile[:mofile.find('.')]\n",
    "unzipped_path = os.path.join(os.getcwd(), unzipped_name)\n",
    "with zipfile.ZipFile(fmu_file, 'r') as zip_ref: zip_ref.extractall(unzipped_name)\n",
    "print('Unzipped %s into %s' % (fmu_file, unzipped_path))"
   ]
  },
  {
   "attachments": {},
   "cell_type": "markdown",
   "id": "ethical-boards",
   "metadata": {},
   "source": [
    "## DaeBuilder instances\n",
    "The FMI interface in CasADi consists of two main components:\n",
    " - The `casadi::DaeBuilder` class which contains *mutable* interface to the model representation.\n",
    " - The `casadi::FmuFunction` class which contains an *immutable* interface to the model equations\n",
    "\n",
    "We can create a `casadi::DaeBuilder` instance from the XML component of the FMU."
   ]
  },
  {
   "cell_type": "code",
   "execution_count": 4,
   "id": "objective-avenue",
   "metadata": {},
   "outputs": [
    {
     "name": "stdout",
     "output_type": "stream",
     "text": [
      "Loaded /home/jaeandersson/dev/casadi/docs/notebooks/vdp in 0.00188804 seconds\n",
      "nx = 2, nz = 0, nq = 0, ny = 0, np = 0, nc = 0, nd = 0, nw = 0, nu = 1\n",
      "Variables\n",
      "  x = [x1, x2]\n",
      "  u = [u]\n",
      "Differential equations\n",
      "  \\dot{x1} == der(x1)\n",
      "  \\dot{x2} == der(x2)\n"
     ]
    }
   ],
   "source": [
    "# Use FMU to create a CasADi/DaeBuilder instance\n",
    "import casadi\n",
    "t1 = time()\n",
    "dae = casadi.DaeBuilder('vdp', unzipped_path)\n",
    "print('Loaded %s in %g seconds' % (unzipped_path, time() - t1))\n",
    "dae.disp(True)"
   ]
  },
  {
   "cell_type": "markdown",
   "id": "raised-honey",
   "metadata": {},
   "source": [
    "### Accessing meta information\n",
    "\n",
    "Once loaded, we can access (or change) the meta information available in the FMU XML:"
   ]
  },
  {
   "cell_type": "code",
   "execution_count": 5,
   "id": "compact-breathing",
   "metadata": {},
   "outputs": [
    {
     "name": "stdout",
     "output_type": "stream",
     "text": [
      "x:  ['x1', 'x2']\n",
      "lbx:  [-inf, -inf]\n",
      "ubx:  [inf, inf]\n",
      "x0:  [0.0, 1.0]\n"
     ]
    }
   ],
   "source": [
    "# Get state vector, initial conditions, bounds\n",
    "x = dae.x()\n",
    "lbx = dae.min(x)\n",
    "ubx = dae.max(x)\n",
    "x0 = dae.start(x)\n",
    "print('x: ', x)\n",
    "print('lbx: ', lbx)\n",
    "print('ubx: ', ubx)\n",
    "print('x0: ', x0)"
   ]
  },
  {
   "cell_type": "code",
   "execution_count": 6,
   "id": "consistent-cambridge",
   "metadata": {},
   "outputs": [
    {
     "name": "stdout",
     "output_type": "stream",
     "text": [
      "u:  ['u']\n",
      "lbu:  [-1.0]\n",
      "ubu:  [1.0]\n"
     ]
    }
   ],
   "source": [
    "# Get free control, bounds\n",
    "u = dae.u()\n",
    "lbu = dae.min(u)\n",
    "ubu = dae.max(u)\n",
    "print('u: ', u)\n",
    "print('lbu: ', lbu)\n",
    "print('ubu: ', ubu)"
   ]
  },
  {
   "attachments": {},
   "cell_type": "markdown",
   "id": "alien-conclusion",
   "metadata": {},
   "source": [
    "## FMU function objects\n",
    "\n",
    "The evaluation of the FMU model equations takes place in a separate class, ``casadi::FmuFunction``, which is a standard differentiable CasADi function object. As such, it can embedded into optimization problems and have derivatives calculated automatically \"under-the-hood\".\n",
    "\n",
    "FmuFunction instances are created from DaeBuilder instances, but does not depend on them after creation. Instead, they make a copy of the relevant subset of meta information in the DaeBuilder instance and stores them in the instance. If the DaeBuilder instance is later changed or deleted, it will not affect the FmuFunction. Included in the `FmuFunction` is a binary interface to the DLLs, following FMI 2.0.\n",
    "\n",
    "In the simplest case, lets create a function object that calculate the ODE right-hand-side as a function of the state vector $x$ and the controls $u$:"
   ]
  },
  {
   "cell_type": "code",
   "execution_count": 7,
   "id": "creative-graduation",
   "metadata": {},
   "outputs": [
    {
     "name": "stdout",
     "output_type": "stream",
     "text": [
      "f:(x[2],u)->(ode[2]) FmuFunction\n",
      "xdot_test:  [-0.6, 0]\n"
     ]
    }
   ],
   "source": [
    "# Evaluate ODE right-hand-side\n",
    "f = dae.create('f', ['x', 'u'], ['ode'])\n",
    "print(f)\n",
    "# Evaluate the function numerically\n",
    "u_test = 0.4\n",
    "xdot_test = f(x0, u_test)\n",
    "print('xdot_test: ', xdot_test)"
   ]
  },
  {
   "attachments": {},
   "cell_type": "markdown",
   "id": "descending-wrong",
   "metadata": {},
   "source": [
    "The creation of function objects is quite generic and it is up to the user to decide what inputs or output vectors are relevant. For example, a steady-state optimization might not have an $x$ vector at all.\n",
    "\n",
    "Only real-valued variables that can be expected to change over subsequent function evaluations should be included in the list of inputs and outputs. For parameters that do not change during subsequent calls to the FMU -- e.g. from an optimization or simulation algorithm -- the user should set these variables in the DaeBuilder instance *before* the function creation:"
   ]
  },
  {
   "cell_type": "code",
   "execution_count": 8,
   "id": "controversial-lemon",
   "metadata": {},
   "outputs": [
    {
     "name": "stdout",
     "output_type": "stream",
     "text": [
      "f_no_u:(x[2])->(ode[2]) FmuFunction\n",
      "xdot_test_no_u:  [-0.6, 0]\n"
     ]
    }
   ],
   "source": [
    "# Alternative ODE right-hand-side function with u fixed\n",
    "dae.set('u', 0.4)\n",
    "f_no_u = dae.create('f_no_u', ['x'], ['ode'])\n",
    "print(f_no_u)\n",
    "# Evaluate the function numerically\n",
    "xdot_test_no_u = f_no_u(x0)\n",
    "print('xdot_test_no_u: ', xdot_test_no_u)"
   ]
  },
  {
   "cell_type": "markdown",
   "id": "acute-thanksgiving",
   "metadata": {},
   "source": [
    "Similarly, only real-valued, differentiable variables should be included in the list of function outputs. Other variables can be included as \"auxilliary variables\" by specifying the \"aux\" option:"
   ]
  },
  {
   "cell_type": "code",
   "execution_count": 9,
   "id": "prerequisite-rouge",
   "metadata": {},
   "outputs": [
    {
     "name": "stdout",
     "output_type": "stream",
     "text": [
      "f_with_aux:(x[2],u)->(ode[2]) FmuFunction\n",
      "xdot_test_with_aux:  [-0.6, 0]\n",
      "{'aux': {'u': 0.4, 'x1': 0.0, 'x2': 1.0}, 'u': [0.4], 'x': [0.0, 1.0]}\n"
     ]
    }
   ],
   "source": [
    "# Evaluate ODE right-hand-side with auxilliary field\n",
    "f_with_aux = dae.create('f_with_aux', ['x', 'u'], ['ode'],\n",
    "               dict(aux = ['x1', 'x2', 'u']))\n",
    "print(f_with_aux)\n",
    "# After evaluation, the aux variables are in the stats field:\n",
    "u_test = 0.4\n",
    "xdot_test_with_aux = f_with_aux(x0, u_test)\n",
    "print('xdot_test_with_aux: ', xdot_test_with_aux)\n",
    "print(f_with_aux.stats())"
   ]
  },
  {
   "attachments": {},
   "cell_type": "markdown",
   "id": "39d600b2",
   "metadata": {},
   "source": [
    "Anything that is not real-valued (but for example string or integer valued) can also be set this way."
   ]
  },
  {
   "cell_type": "markdown",
   "id": "danish-ownership",
   "metadata": {},
   "source": [
    "### First order derivatives - Jacobians\n",
    "\n",
    "First order derivative information can be obtained either numerically or analytically. In either case, the Jacobian sparsity information in the FMU will be exploited using CasADi's graph coloring techniques.\n",
    "\n",
    "For efficiency, the evaluation can be done in parallel using either OpenMP or std::thread. The interface will distribute the evaluation over the available threads:"
   ]
  },
  {
   "cell_type": "code",
   "execution_count": 10,
   "id": "major-plane",
   "metadata": {},
   "outputs": [
    {
     "name": "stdout",
     "output_type": "stream",
     "text": [
      "CasADi - 2023-04-14 20:07:59 MESSAGE(\"J::init\") [.../casadi/core/function_internal.cpp:543]\n",
      "CasADi - 2023-04-14 20:07:59 MESSAGE(\"OpenMP using at most 24 threads\") [.../casadi/core/fmu_function.cpp:1342]\n",
      "CasADi - 2023-04-14 20:07:59 MESSAGE(\"Jacobian graph coloring: 3 -> 3 directions\") [.../casadi/core/fmu_function.cpp:1472]\n",
      "CasADi - 2023-04-14 20:07:59 MESSAGE(\"Jacobian calculation with 3 threads\") [.../casadi/core/fmu_function.cpp:1549]\n",
      "J:(x[2],u)->(ode[2],jac_ode_x[2x2,3nz],jac_ode_u[2x1,1nz]) FmuFunction\n",
      "CasADi - 2023-04-14 20:07:59 MESSAGE(\"Evaluating regular outputs, forward sens, extended Jacobian\") [.../casadi/core/fmu_function.cpp:1908]\n",
      "xdot_test:  [-0.6, 0]\n",
      "A_test:  \n",
      "[[0, -1], \n",
      " [1, 00]]\n",
      "B_test:  [1, 00]\n"
     ]
    }
   ],
   "source": [
    "# A function that calculates the ODE and two Jacobian blocks:\n",
    "J = dae.create('J', ['x', 'u'], ['ode', 'jac_ode_x', 'jac_ode_u'],\n",
    "              dict(verbose = True, parallelization = 'openmp'))\n",
    "print(J)\n",
    "\n",
    "# Evaluate Jacobian\n",
    "xdot_test, A_test, B_test = J(x0, u_test)\n",
    "print('xdot_test: ', xdot_test)\n",
    "print('A_test: ', A_test)\n",
    "print('B_test: ', B_test)"
   ]
  },
  {
   "cell_type": "markdown",
   "id": "centered-picture",
   "metadata": {},
   "source": [
    "Notice that the output is sparse (00 denotes a stuctural zero).\n",
    "\n",
    "By default, analytic derivatives will be used if they are available in the FMU. Alternatively, derivatives can be calculated using finite differences using one of three schemes:\n",
    " * Forward differences\n",
    " * Central differences\n",
    " * A smoothness seeking scheme using 5-point stencils: $f(x-2h), f(x-h), f(x), f(x+h), f(x+2h)$\n",
    " \n",
    "All schemes will use perturbation sizes scaled by the nominal values in the FMU. If FMU variable bounds are present, they will be respected."
   ]
  },
  {
   "cell_type": "code",
   "execution_count": 11,
   "id": "wanted-projection",
   "metadata": {},
   "outputs": [
    {
     "name": "stdout",
     "output_type": "stream",
     "text": [
      "CasADi - 2023-04-14 20:08:04 MESSAGE(\"J_fd::init\") [.../casadi/core/function_internal.cpp:543]\n",
      "CasADi - 2023-04-14 20:08:04 MESSAGE(\"OpenMP using at most 24 threads\") [.../casadi/core/fmu_function.cpp:1342]\n",
      "CasADi - 2023-04-14 20:08:04 MESSAGE(\"Jacobian graph coloring: 3 -> 3 directions\") [.../casadi/core/fmu_function.cpp:1472]\n",
      "CasADi - 2023-04-14 20:08:04 MESSAGE(\"Jacobian calculation with 3 threads\") [.../casadi/core/fmu_function.cpp:1549]\n",
      "J_fd:(x[2],u)->(ode[2],jac_ode_x[2x2,3nz],jac_ode_u[2x1,1nz]) FmuFunction\n",
      "CasADi - 2023-04-14 20:08:04 MESSAGE(\"Evaluating regular outputs, forward sens, extended Jacobian\") [.../casadi/core/fmu_function.cpp:1908]\n",
      "xdot_fd:  [-0.6, 0]\n",
      "A_fd:  \n",
      "[[0, -1], \n",
      " [1, 00]]\n",
      "B_fd:  [1, 00]\n"
     ]
    }
   ],
   "source": [
    "# A function that calculates the ODE and two Jacobian blocks:\n",
    "J_fd = dae.create('J_fd', ['x', 'u'], ['ode', 'jac_ode_x', 'jac_ode_u'],\n",
    "              dict(verbose = True,\n",
    "                   parallelization = 'openmp',\n",
    "                   enable_ad = False))\n",
    "print(J_fd)\n",
    "\n",
    "# Evaluate Jacobian\n",
    "xdot_fd, A_fd, B_fd = J_fd(x0, u_test)\n",
    "print('xdot_fd: ', xdot_fd)\n",
    "print('A_fd: ', A_fd)\n",
    "print('B_fd: ', B_fd)"
   ]
  },
  {
   "cell_type": "markdown",
   "id": "vietnamese-venue",
   "metadata": {},
   "source": [
    "Finally, the finite difference implementation can be run in \"shadow mode\" by setting the option \"validate_ad\" to True. The AD derivatives are then compared with the finite difference values and warnings are emitted if the difference exceeds a threshold. This feature is intended to help ensuring that the analytic derivatives are correct for complex physical models."
   ]
  },
  {
   "attachments": {},
   "cell_type": "markdown",
   "id": "subject-myanmar",
   "metadata": {},
   "source": [
    "### Second order derivatives - Hessians\n",
    "The interface can also calculate second derivatives, i.e. Hessians. The Hessian can be calculated for any linear combination of the outputs (in gradient-based optimization, the weights are typically Lagrange multipliers).\n",
    "\n",
    "Using the \"dependenciesKind\" field in the FMI XML we can determine which input variables enter nonlinearly in any of the used outputs variables. This allows a \"worst-case\" sparsity pattern of the Hessian to be constructed.\n",
    "\n",
    "The Hessian is then calculated by applying finite differencing to the first order analytic derivatives. The first order analytic derivatives are, in turn, by implicitly multiplying the Jacobian with a vector from the left, where the Jacobian is calculated using the graph coloring techniques described above. This is *not* the most efficient way to calculate second order derivatives -- a more efficient alternative is to use adjoint derivatives to calculate the first order derivatives before using either finite differences or AD for the second derivatives. Since adjoint derivatives are not available in FMI 2.0, the workaround using the calculation of the sparse Jacobian was used. If/when the FMI interface is updated to support FMI 3.0, the first order derivatives can be calculated efficiently using `fmi3GetAdjointDerivative`, if supported by the generating tool. The current gradient calculation approach can then instead be used as a diagnostics feature, checking that `fmi3GetAdjointDerivative` for correctness.\n",
    "\n",
    "The Hessian calculation can be done in parallel, using OpenMP or std::thread. The nonlinearly entering variables are then split over the available threads:"
   ]
  },
  {
   "cell_type": "code",
   "execution_count": 12,
   "id": "grateful-agent",
   "metadata": {},
   "outputs": [
    {
     "name": "stdout",
     "output_type": "stream",
     "text": [
      "CasADi - 2023-04-14 20:08:11 MESSAGE(\"H::init\") [.../casadi/core/function_internal.cpp:543]\n",
      "CasADi - 2023-04-14 20:08:11 MESSAGE(\"OpenMP using at most 24 threads\") [.../casadi/core/fmu_function.cpp:1342]\n",
      "CasADi - 2023-04-14 20:08:11 MESSAGE(\"Jacobian graph coloring: 3 -> 3 directions\") [.../casadi/core/fmu_function.cpp:1472]\n",
      "CasADi - 2023-04-14 20:08:11 MESSAGE(\"Hessian graph coloring: 3 -> 3 directions\") [.../casadi/core/fmu_function.cpp:1515]\n",
      "CasADi - 2023-04-14 20:08:11 MESSAGE(\"Jacobian calculation with 3 threads\") [.../casadi/core/fmu_function.cpp:1549]\n",
      "H:(x[2],u,adj_ode[2])->(jac_adj_x_x[2x2],jac_adj_x_u[2],jac_adj_u_u) FmuFunction\n",
      "CasADi - 2023-04-14 20:08:11 MESSAGE(\"Evaluating regular outputs, forward sens, extended Jacobian\") [.../casadi/core/fmu_function.cpp:1908]\n",
      "CasADi - 2023-04-14 20:08:11 MESSAGE(\"Evaluating extended Hessian\") [.../casadi/core/fmu_function.cpp:1912]\n",
      "H_xx:  \n",
      "[[0, -2.00007], \n",
      " [-2.00007, 0]]\n",
      "H_xu:  [0, 0]\n",
      "H_uu:  -0.000111022\n"
     ]
    }
   ],
   "source": [
    "# Create a function that calculate the Hessian of a linear\n",
    "# combination of \"ode\" with respect to x and u: \n",
    "H = dae.create('H', ['x', 'u', 'adj_ode'],\n",
    "               ['jac_adj_x_x', 'jac_adj_x_u', 'jac_adj_u_u'],\n",
    "               dict(verbose = True, parallelization = 'openmp'))\n",
    "print(H)\n",
    "# Evaluate Hessian\n",
    "# Evaluate Jacobian\n",
    "H_xx, H_xu, H_uu = H(x0, u_test, 1)\n",
    "print('H_xx: ', H_xx)\n",
    "print('H_xu: ', H_xu)\n",
    "print('H_uu: ', H_uu)"
   ]
  },
  {
   "attachments": {},
   "cell_type": "markdown",
   "id": "sublime-boxing",
   "metadata": {},
   "source": [
    "In general, we have to perturb all nonlinearly entering variables, which will give us the full Hessian, not just the upper or lower triangular part. But we also know that the Hessian has to be symmetric, we can use a symmetry check as an consistency check for the Hessian calculation, without any additional calls to the FMU. In addition, the diagonal entries of the Hessian can be calculated by using second order finite differences.\n",
    "\n",
    "Both these calculations can be done without any additional calls to the FMU, thus without significant overhead, and can thus be an important check that the entries are correctly calculated. This is especially important since the correcness of the calculation will depend on suitably chosen nominal values, for scaling the perturbation step sizes. This diagnostics feature can be enabled by setting the option \"check_hessian\" to True."
   ]
  },
  {
   "attachments": {},
   "cell_type": "markdown",
   "id": "foster-transcription",
   "metadata": {},
   "source": [
    "## Improved ODE/DAE integrator class suitable for FMI simulation\n",
    " * CasADi's ODE/DAE integrators previously only efficient for forward/adjoint sensitivity calculations\n",
    "    when the ODEs/DAEs were available as *expressions*, not general *functions*\n",
    " * With CasADi 3.6, the `integrator` class also works efficiently for DAEs given as functions, including `FmuFunction` instances\n",
    " * In addition, ODE/DAE sensitivity analysis has been greatly refactored in CasADi 3.6:\n",
    "    - It now supports piecewise constant controls (\"u\")\n",
    "    - The differentiation now works when the solution is retrieved at a time grid, not just a single point\n",
    "    - The integrator plugin classes much better exploit the ODE/DAE sensitivity analysis structure"
   ]
  },
  {
   "cell_type": "code",
   "execution_count": 16,
   "id": "buried-pennsylvania",
   "metadata": {},
   "outputs": [],
   "source": [
    "import numpy as np\n",
    "# Simulate the ODE over 10 s using CVODES\n",
    "T = 10.\n",
    "tgrid = np.linspace(0., T, 100)\n",
    "dae.set_min(x[0], -np.inf) # relax lower bound on x1\n",
    "daefun = dae.create('daefun')\n",
    "sim = casadi.integrator('sim', 'cvodes', daefun, 0, tgrid)"
   ]
  },
  {
   "cell_type": "code",
   "execution_count": 17,
   "id": "bridal-helicopter",
   "metadata": {},
   "outputs": [],
   "source": [
    "# Call integrator instance\n",
    "r = sim(x0 = x0, u = u_test)\n",
    "x_traj_sim = r['xf'].full()"
   ]
  },
  {
   "cell_type": "code",
   "execution_count": 18,
   "id": "moving-wealth",
   "metadata": {},
   "outputs": [
    {
     "data": {
      "image/png": "[encoded data removed]",
      "text/plain": [
       "<Figure size 640x480 with 1 Axes>"
      ]
     },
     "metadata": {},
     "output_type": "display_data"
    }
   ],
   "source": [
    "import matplotlib.pyplot as plt\n",
    "# Plot x1 vs. x2\n",
    "plt.plot(x_traj_sim[0,:], x_traj_sim[1,:])\n",
    "plt.xlabel(x[0])\n",
    "plt.ylabel(x[1])\n",
    "plt.grid(True)"
   ]
  },
  {
   "cell_type": "code",
   "execution_count": 21,
   "id": "prescription-check",
   "metadata": {},
   "outputs": [
    {
     "ename": "RuntimeError",
     "evalue": ".../casadi/core/function_internal.cpp:145: Error calling CvodesInterface::init for 'fwd_sim':\n.../casadi/core/oracle_function.cpp:458: Assertion \"it!=all_functions_.end()\" failed:\nNo function \"fwd1_daeF\" in fwd_sim. Available functions: daeF,fwd1_wrap_daeF.",
     "output_type": "error",
     "traceback": [
      "\u001b[0;31m---------------------------------------------------------------------------\u001b[0m",
      "\u001b[0;31mRuntimeError\u001b[0m                              Traceback (most recent call last)",
      "Cell \u001b[0;32mIn[21], line 2\u001b[0m\n\u001b[1;32m      1\u001b[0m \u001b[39m# Create a new integrator with support for forward sensitivities\u001b[39;00m\n\u001b[0;32m----> 2\u001b[0m fwd_sim \u001b[39m=\u001b[39m casadi\u001b[39m.\u001b[39;49mintegrator(\u001b[39m'\u001b[39;49m\u001b[39mfwd_sim\u001b[39;49m\u001b[39m'\u001b[39;49m, \u001b[39m'\u001b[39;49m\u001b[39mcvodes\u001b[39;49m\u001b[39m'\u001b[39;49m, daefun, \u001b[39m0\u001b[39;49m, tgrid, \u001b[39mdict\u001b[39;49m(nfwd \u001b[39m=\u001b[39;49m \u001b[39m1\u001b[39;49m))\n\u001b[1;32m      3\u001b[0m \u001b[39mprint\u001b[39m(fwd_sim)\n\u001b[1;32m      4\u001b[0m \u001b[39m# Let's calculate sensitivity w.r.t. x1, i.e. use a forward seed [1, 0] for x0:\u001b[39;00m\n",
      "File \u001b[0;32m~/dev/casadi/out/install/devel/python/casadi/casadi.py:10940\u001b[0m, in \u001b[0;36mintegrator\u001b[0;34m(*args)\u001b[0m\n\u001b[1;32m  10925\u001b[0m \u001b[39mdef\u001b[39;00m \u001b[39mintegrator\u001b[39m(\u001b[39m*\u001b[39margs) \u001b[39m-\u001b[39m\u001b[39m>\u001b[39m \u001b[39m\"\u001b[39m\u001b[39mcasadi::Function\u001b[39m\u001b[39m\"\u001b[39m:\n\u001b[1;32m  10926\u001b[0m \u001b[39m    \u001b[39m\u001b[39mr\u001b[39m\u001b[39m\"\"\"\u001b[39;00m\n\u001b[1;32m  10927\u001b[0m \u001b[39m    integrator(std::string const & name, std::string const & solver, casadi::SXDict const & dae, casadi::Dict const & opts=casadi::Dict()) -> Function\u001b[39;00m\n\u001b[1;32m  10928\u001b[0m \u001b[39m    integrator(std::string const & name, std::string const & solver, casadi::MXDict const & dae, casadi::Dict const & opts=casadi::Dict()) -> Function\u001b[39;00m\n\u001b[0;32m   (...)\u001b[0m\n\u001b[1;32m  10938\u001b[0m \u001b[39m    [INTERNAL] \u001b[39;00m\n\u001b[1;32m  10939\u001b[0m \u001b[39m    \"\"\"\u001b[39;00m\n\u001b[0;32m> 10940\u001b[0m     \u001b[39mreturn\u001b[39;00m _casadi\u001b[39m.\u001b[39;49mintegrator(\u001b[39m*\u001b[39;49margs)\n",
      "\u001b[0;31mRuntimeError\u001b[0m: .../casadi/core/function_internal.cpp:145: Error calling CvodesInterface::init for 'fwd_sim':\n.../casadi/core/oracle_function.cpp:458: Assertion \"it!=all_functions_.end()\" failed:\nNo function \"fwd1_daeF\" in fwd_sim. Available functions: daeF,fwd1_wrap_daeF."
     ]
    }
   ],
   "source": [
    "# Create a new integrator with support for forward sensitivities\n",
    "fwd_sim = casadi.integrator('fwd_sim', 'cvodes', daefun, 0, tgrid, dict(nfwd = 1))\n",
    "print(fwd_sim)\n",
    "# Let's calculate sensitivity w.r.t. x1, i.e. use a forward seed [1, 0] for x0:\n",
    "seed_x0 = casadi.DM([1, 0])\n",
    "seed_u = casadi.DM(0)\n",
    "fwd_test = fwd_sim(x0 = casadi.horzcat(x0, seed_x0), u = casadi.horzcat(u_test, u_seed))\n",
    "print('fwd_x (AD, forward) = ', fwd_test['xf'][:,1])\n",
    "# We can compare this result with a finite difference perturbation\n",
    "pert = 1e-3\n",
    "pert_sim = sim(x0=x0 + pert * seed_x0, u=u_test)\n",
    "x_pert_sim = pert_sim['x'].full()\n",
    "print('fwd_x (FD) = ', (x_pert_sim - x_traj_sim) / pert)"
   ]
  },
  {
   "cell_type": "code",
   "execution_count": null,
   "id": "45d463ff",
   "metadata": {},
   "outputs": [],
   "source": [
    "import numpy as np\n",
    "# Simulate the ODE over 10 s using CVODES\n",
    "T = 10.\n",
    "tgrid = np.linspace(0., T, 100)\n",
    "dae.set_min(x[0], -np.inf) # relax lower bound on x1\n",
    "daefun = dae.create('daefun', dict(enable_ad = None))\n",
    "sim = casadi.integrator('sim', 'cvodes', daefun, 0, tgrid, dict(verbose = False, augmented_options = dict(second_order_correction = False)))"
   ]
  },
  {
   "cell_type": "code",
   "execution_count": null,
   "id": "f50a5987",
   "metadata": {},
   "outputs": [],
   "source": [
    "# Call simulator instance\n",
    "r = sim(x0 = x0, u = u_test)\n",
    "x_traj_sim = r['xf'].full()"
   ]
  },
  {
   "cell_type": "code",
   "execution_count": null,
   "id": "a2c7d912",
   "metadata": {},
   "outputs": [],
   "source": [
    "import matplotlib.pyplot as plt\n",
    "# Plot x1 vs. x2\n",
    "plt.plot(x_traj_sim[0,:], x_traj_sim[1,:])\n",
    "plt.xlabel(x[0])\n",
    "plt.ylabel(x[1])\n",
    "plt.grid(True)"
   ]
  },
  {
   "cell_type": "code",
   "execution_count": null,
   "id": "47df7f86",
   "metadata": {},
   "outputs": [],
   "source": [
    "sim"
   ]
  },
  {
   "cell_type": "code",
   "execution_count": null,
   "id": "db30ba1a",
   "metadata": {},
   "outputs": [],
   "source": [
    "casadi.repmat(casadi.horzcat([u_test, 0]), 1, 100).shape"
   ]
  },
  {
   "cell_type": "code",
   "execution_count": null,
   "id": "908e76ab",
   "metadata": {},
   "outputs": [],
   "source": [
    "# Create a new Simulator with support for forward sensitivities\n",
    "fwd_sim = casadi.integrator('fwd_sim', 'cvodes', daefun, 0, tgrid, dict(nfwd = 1, verbose = False, second_order_correction = False))\n",
    "print(fwd_sim)\n",
    "# Let's calculate sensitivity w.r.t. x1, i.e. use a forward seed [1, 0] for x0:\n",
    "seed_x0 = casadi.DM([1, 0])\n",
    "fwd_test = fwd_sim(x0 = casadi.horzcat(x0, seed_x0),\n",
    "                   u = casadi.horzcat(u_test, 0))\n",
    "print('fwd_x (AD, forward) = ', fwd_test['xf'])\n",
    "# We can compare this result with a finite difference perturbation\n",
    "pert = 1e-3\n",
    "pert_sim = sim(x0=x0 + pert * seed_x0, u=u_test)\n",
    "x_pert_sim = pert_sim['xf'].full()\n",
    "print('fwd_x (FD) = ', (x_pert_sim - x_traj_sim) / pert)"
   ]
  },
  {
   "cell_type": "code",
   "execution_count": null,
   "id": "7ee60171",
   "metadata": {},
   "outputs": [],
   "source": [
    "x_pert_sim"
   ]
  },
  {
   "cell_type": "code",
   "execution_count": null,
   "id": "58b18b90",
   "metadata": {},
   "outputs": [],
   "source": [
    "sim.forward(1)"
   ]
  },
  {
   "cell_type": "code",
   "execution_count": null,
   "id": "a45aa6ce",
   "metadata": {},
   "outputs": [],
   "source": [
    "# Create a new Simulator with support for forward sensitivities\n",
    "fwd_sim = sim.forward(1)\n",
    "print(fwd_sim)\n",
    "# Let's calculate sensitivity w.r.t. x1, i.e. use a forward seed [1, 0] for x0:\n",
    "seed_x0 = casadi.DM([1, 0])\n",
    "fwd_test = fwd_sim(x0 = x0, u = u_test, out_xf = r['xf'], fwd_x0 = seed_x0)\n",
    "print('fwd_x (AD, forward) = ', fwd_test['fwd_xf'])\n",
    "# We can compare this result with a finite difference perturbation\n",
    "pert = 1e-3\n",
    "pert_sim = sim(x0=x0 + pert * seed_x0, u=u_test)\n",
    "x_pert_sim = pert_sim['xf'].full()\n",
    "print('fwd_x (FD) = ', (x_pert_sim - x_traj_sim) / pert)"
   ]
  },
  {
   "cell_type": "markdown",
   "id": "greek-kingdom",
   "metadata": {},
   "source": [
    "### Dynamic discretization - Solving nonlinear system of equations"
   ]
  },
  {
   "cell_type": "markdown",
   "id": "violent-sending",
   "metadata": {},
   "source": [
    "ODEs from Modelica are typically sparse. Let us define a implicit fixed step\n",
    "integrator suitable for stiff ODEs and DAEs"
   ]
  },
  {
   "cell_type": "code",
   "execution_count": null,
   "id": "silent-disclaimer",
   "metadata": {},
   "outputs": [],
   "source": [
    "# Number of integrator steps\n",
    "N = 50\n",
    "# Size of the finite elements\n",
    "h = T/N"
   ]
  },
  {
   "cell_type": "code",
   "execution_count": null,
   "id": "norman-convert",
   "metadata": {},
   "outputs": [],
   "source": [
    "# Let us use a 4th order collocation discretization using Legendre roots, cf. \n",
    "# Nonlinear Programming: Concepts, Algorithms, and Applications to Chemical Processes\n",
    "# by Lorenz Biegler (2010)\n",
    "d = 3\n",
    "# The roots can be queried from CasADi or looked up in the above textbook\n",
    "tau_root = np.append(0, casadi.collocation_points(d, 'legendre'))\n",
    "# Coefficients of the collocation equation\n",
    "C = np.zeros((d+1,d+1))\n",
    "# Coefficients of the continuity equation\n",
    "D = np.zeros(d+1)\n",
    "# Coefficients of the quadrature function\n",
    "B = np.zeros(d+1)\n",
    "# Construct polynomial basis\n",
    "for j in range(d+1):\n",
    "    # Construct Lagrange polynomials\n",
    "    p = np.poly1d([1])\n",
    "    for r in range(d+1):\n",
    "        if r != j:\n",
    "            p *= np.poly1d([1, -tau_root[r]]) / (tau_root[j]-tau_root[r])\n",
    "    # Evaluate at the final time to get the coefficients of the continuity equation\n",
    "    D[j] = p(1.0)\n",
    "    # Evaluate the time derivative to get the coefficients of the continuity equation\n",
    "    pder = np.polyder(p)\n",
    "    for r in range(d+1): C[j,r] = pder(tau_root[r])\n",
    "    # Evaluate the integral of the polynomial to get the coefficients of the quadrature function\n",
    "    pint = np.polyint(p)\n",
    "    B[j] = pint(1.0)\n",
    "print('tau_root: ', tau_root)\n",
    "print('C: ', C)\n",
    "print('D: ', D)\n",
    "print('B: ', B)"
   ]
  },
  {
   "cell_type": "code",
   "execution_count": null,
   "id": "major-shelf",
   "metadata": {},
   "outputs": [],
   "source": [
    "# Symbolic expression for the controls (piecewise constant)\n",
    "U = casadi.MX.sym('U',len(u))\n",
    "# Symbolic expressions for the states at each collocation point\n",
    "X = [casadi.MX.sym('X_' + str(j), len(x)) for j in range(d+1)]\n",
    "# Define the collocation equations\n",
    "g = []\n",
    "for j in range(1,d+1):\n",
    "  # Expression for the state derivative at the collocation point\n",
    "  xdot_j = 0\n",
    "  for r in range (d+1): xdot_j += C[r,j]*X[r]\n",
    "  # Append collocation equations\n",
    "  g.append(h*f(X[j],U) - xdot_j)\n",
    "# Concatenate constraints\n",
    "g = casadi.vertcat(*g)\n",
    "# Form a root-finding function, implicitly defining X[1:] as a function of U, X[0]\n",
    "X_unknown = casadi.vertcat(*X[1:])\n",
    "rfp = casadi.Function('rfp', [X_unknown, X[0], U], [g], ['V0', 'X0', 'U'], ['V'])"
   ]
  },
  {
   "cell_type": "markdown",
   "id": "accessible-journal",
   "metadata": {},
   "source": [
    "* Rootfinding instances in CasADi solves problems of the form:\n",
    " $$ g(x, p) = 0 $$\n",
    "* Nonlinear system of equation can be solved with KINSOL, other Newton solvers\n",
    "* Rootfinding instances are differentiable, derivatives to any order can be derived from implicit-function theorem"
   ]
  },
  {
   "cell_type": "code",
   "execution_count": null,
   "id": "social-illustration",
   "metadata": {},
   "outputs": [],
   "source": [
    "# We can solve this system of equations using Sundials/KINSOL\n",
    "ifcn = casadi.rootfinder('ifcn', 'kinsol', rfp, dict(print_level = 1))\n",
    "# Take a single step of the integrator\n",
    "v0 = casadi.repmat(x0, d, 1)\n",
    "v0 = ifcn(v0, x0, u_test)\n",
    "# State at each collocation point\n",
    "x_all = casadi.reshape(v0, len(x), d)\n",
    "# Prepend initial state\n",
    "x_all = casadi.horzcat(x0, x_all)\n",
    "# Also calculate the state at the end\n",
    "xf = casadi.mtimes(x_all, D)\n",
    "# Print solution\n",
    "print('x_all: ', x_all)\n",
    "print('xf: ', xf)"
   ]
  },
  {
   "cell_type": "code",
   "execution_count": null,
   "id": "valid-lithuania",
   "metadata": {},
   "outputs": [],
   "source": [
    "# We can also use CasADi's native Newton solver\n",
    "ifcn = casadi.rootfinder('ifcn', 'newton', rfp, dict(print_iteration = True))\n",
    "# Take a single step of the integrator\n",
    "v0 = casadi.repmat(x0, d, 1)\n",
    "v0 = ifcn(v0, x0, u_test)\n",
    "# State at each collocation point\n",
    "x_all = casadi.reshape(v0, len(x), d)\n",
    "# Prepend initial state\n",
    "x_all = casadi.horzcat(x0, x_all)\n",
    "# Also calculate the state at the end\n",
    "xf = casadi.mtimes(x_all, D)\n",
    "# Print solution\n",
    "print('x_all: ', x_all)\n",
    "print('xf: ', xf)"
   ]
  },
  {
   "cell_type": "markdown",
   "id": "infinite-bullet",
   "metadata": {},
   "source": [
    "### Solvers for nonlinear systems of equations are differentiable to any order in CasADi:"
   ]
  },
  {
   "cell_type": "code",
   "execution_count": null,
   "id": "appropriate-weekly",
   "metadata": {},
   "outputs": [],
   "source": [
    "# We can solve this system of equations using Sundials/KINSOL\n",
    "ifcn = casadi.rootfinder('ifcn', 'kinsol', rfp, dict(print_level = 1))\n",
    "# Differentiate Newton solver\n",
    "jac_ifcn = ifcn.jacobian()\n",
    "sol = jac_ifcn(V0 = v0, X0 = x0, U = u_test)\n",
    "# Jacobian of state at collocation points w.r.t. U\n",
    "print('jac_V_U = ', sol['jac_V_U'])\n",
    "# Jacobian of state at collocation points w.r.t. X0\n",
    "print('jac_V_X0 = ', sol['jac_V_X0'])"
   ]
  },
  {
   "cell_type": "code",
   "execution_count": null,
   "id": "assisted-coupon",
   "metadata": {},
   "outputs": [],
   "source": [
    "# Compare with finite differences\n",
    "pert = 1e-3\n",
    "# Perturn u\n",
    "v0_pert = ifcn(casadi.repmat(x0, d, 1), x0, u_test + pert)\n",
    "jac_V_U_fd = (v0_pert - v0) / pert\n",
    "print('jac_V_U (FD) = ', jac_V_U_fd)\n",
    "# Perturb x1\n",
    "v0_pert = ifcn(casadi.repmat(x0, d, 1), x0 + casadi.DM([pert, 0]), u_test)\n",
    "jac_V_X0_fd1 = (v0_pert - v0) / pert\n",
    "# Perturb x2\n",
    "v0_pert = ifcn(casadi.repmat(x0, d, 1), x0 + casadi.DM([0, pert]), u_test)\n",
    "jac_V_X0_fd2 = (v0_pert - v0) / pert\n",
    "print('jac_V_X0 (FD) = ', casadi.horzcat(jac_V_X0_fd1, jac_V_X0_fd2))"
   ]
  },
  {
   "cell_type": "code",
   "execution_count": null,
   "id": "14750624",
   "metadata": {},
   "outputs": [],
   "source": [
    "x0"
   ]
  },
  {
   "cell_type": "code",
   "execution_count": null,
   "id": "sealed-contractor",
   "metadata": {},
   "outputs": [],
   "source": [
    "# Let's create a CasADi function for simulating the whole trajectory using Kinsol\n",
    "ifcn = casadi.rootfinder('ifcn', 'kinsol', rfp)\n",
    "x0_in = casadi.MX.sym('x0', len(x))\n",
    "u_all = []\n",
    "xk = x0_in\n",
    "x_all = [x0_in]\n",
    "for k in range(N):\n",
    "    # Symbolic expression for the control for the interval\n",
    "    uk = casadi.MX.sym('u' + str(k), len(u))\n",
    "    u_all.append(uk)\n",
    "    # Solve rootfinding problem, using previous step as guess\n",
    "    vk = ifcn(casadi.repmat(xk,d,1), xk, uk)\n",
    "    # Reshape and prepend initial state\n",
    "    vk = casadi.reshape(vk, len(x), d)\n",
    "    vk = casadi.horzcat(xk, vk)\n",
    "    # Get the state at the end\n",
    "    xk = casadi.mtimes(vk, D)\n",
    "    # Save trajectory\n",
    "    x_all.append(xk)\n",
    "# Embed in a CasADi Function\n",
    "irksim = casadi.Function('irksim', [x0_in, casadi.vcat(u_all)], [casadi.hcat(x_all)],\n",
    "                         ['x0', 'u'], ['x'])\n",
    "# Evaluate the function\n",
    "x_traj = irksim(x0, u_test).full()"
   ]
  },
  {
   "cell_type": "code",
   "execution_count": null,
   "id": "confused-situation",
   "metadata": {},
   "outputs": [],
   "source": [
    "# Plot x1 vs. x2\n",
    "plt.clf()\n",
    "plt.plot(x_traj_sim[0,:], x_traj_sim[1,:], 'o', label = 'CVodes')\n",
    "plt.plot(x_traj[0,:], x_traj[1,:], '-', label = 'Implicit Runge-Kutta with Kinsol')\n",
    "plt.xlabel(x[0])\n",
    "plt.ylabel(x[1])\n",
    "plt.grid(True)\n",
    "plt.legend()"
   ]
  },
  {
   "cell_type": "markdown",
   "id": "freelance-swift",
   "metadata": {},
   "source": [
    "## ODE/DAE sensitivity analysis"
   ]
  },
  {
   "cell_type": "code",
   "execution_count": null,
   "id": "beautiful-forum",
   "metadata": {},
   "outputs": [],
   "source": [
    "# A nonlinear equation solver is a differentiable object in CasADi.\n",
    "# We can differentiate it analytically to get the Jacobian-times-vector product:\n",
    "fwd_irksim = irksim.forward(1)\n",
    "# Let's calculate sensitivity w.r.t. x1, i.e. use a forward seed [1, 0] for x0:\n",
    "seed_x0 = casadi.DM([1, 0])\n",
    "fwd_test = fwd_irksim(x0 = x0, u = u_test, fwd_x0 = seed_x0)\n",
    "print('fwd_x (AD, forward) = ', fwd_test['fwd_x'])\n",
    "# We can compare this result with a finite difference perturbation\n",
    "pert = 1e-3\n",
    "x_pert = irksim(x0 + pert * seed_x0, u_test).full()\n",
    "print('fwd_x (FD) = ', (x_pert - x_traj) / pert)"
   ]
  },
  {
   "cell_type": "code",
   "execution_count": null,
   "id": "polyphonic-request",
   "metadata": {},
   "outputs": [],
   "source": [
    "# Now let's to a reverse mode AD, i.e. a transposed-Jacobian-times-vector product\n",
    "adj_irksim = irksim.reverse(1)\n",
    "# We seed the last entry in x2\n",
    "seed_x = casadi.DM.zeros(2, N + 1)\n",
    "seed_x[1, N] = 1\n",
    "adj_test = adj_irksim(x0 = x0, u = u_test, adj_x = seed_x)\n",
    "print('adj_x0 (AD, reverse) = ', adj_test['adj_x0'])\n",
    "print('adj_u (AD, reverse) = ', adj_test['adj_u'])"
   ]
  },
  {
   "cell_type": "code",
   "execution_count": null,
   "id": "confidential-argument",
   "metadata": {},
   "outputs": [],
   "source": [
    "# We can check that the result is consistent with forward mode AD:\n",
    "print('Forward mode: derivative of x[1, N] w.r.t. x0[0] = ', fwd_test['fwd_x'][1, N])\n",
    "print('Reverse mode: derivative of x[1, N] w.r.t. x0[0] = ', adj_test['adj_x0'][0])"
   ]
  },
  {
   "cell_type": "code",
   "execution_count": null,
   "id": "basic-finding",
   "metadata": {},
   "outputs": [],
   "source": [
    "# We can also calculate the full Jacobian of x w.r.t. x0 and u:\n",
    "jac_irksim = irksim.jacobian()\n",
    "jac_test = jac_irksim(x0 = x0, u = u_test)\n",
    "print('jac_x_x0 = ', jac_test['jac_x_x0'])\n",
    "print('jac_x_u = ', jac_test['jac_x_u'])"
   ]
  },
  {
   "cell_type": "code",
   "execution_count": null,
   "id": "accepting-atlanta",
   "metadata": {},
   "outputs": [],
   "source": [
    "# Note the sparsity pattern of dx/du:\n",
    "plt.spy(jac_test['jac_x_u'].sparse())\n",
    "plt.show()"
   ]
  },
  {
   "cell_type": "markdown",
   "id": "changing-james",
   "metadata": {},
   "source": [
    "## Dynamic optimization\n",
    "Now let us find the control signals that minimize the cost function\n",
    "$$ J := \\sum_{k = 0}^{N}{\\|u_k\\|^2 + \\|x_{k+1}\\|^2} $$\n",
    "We will embed the implicit Runge-Kutta discretization in a nonlinear program (NLP), which results in a simultaneous method for dynamic optimization. For details, cf. e.g. Biegler (2010)"
   ]
  },
  {
   "cell_type": "code",
   "execution_count": null,
   "id": "ancient-ozone",
   "metadata": {},
   "outputs": [],
   "source": [
    "# We will construct an NLP incrementally, starting with no decision variables, \n",
    "# and constraints, and zero objective\n",
    "w = []\n",
    "g = []\n",
    "J = 0\n",
    "# Loop over all control intervals, constructing the NLP and x, u trajectories\n",
    "U_all = []\n",
    "X_all = []\n",
    "xk = casadi.MX(x0)\n",
    "for k in range(N):\n",
    "    # Symbolic expression for the control for the interval\n",
    "    uk = casadi.MX.sym('u' + str(k), len(u))\n",
    "    U_all.append(uk)\n",
    "    w.append(uk)\n",
    "    # States at each collocation point for the interval\n",
    "    Xc = [xk]\n",
    "    for j in range(1, d + 1):\n",
    "        xkj = casadi.MX.sym('x' + str(k) + '_' + str(j), len(x))\n",
    "        Xc.append(xkj)\n",
    "        X_all.append(xkj)\n",
    "        w.append(xkj)\n",
    "    # Collect the collocation equations\n",
    "    for j in range(1,d+1):\n",
    "      # Expression for the state derivative at the collocation point\n",
    "      xdot_j = 0\n",
    "      for r in range (d+1): xdot_j += C[r,j]*Xc[r]\n",
    "      # Append collocation equations\n",
    "      g.append(h*f(Xc[j],uk) - xdot_j)\n",
    "    # State at the end of the interval\n",
    "    xk_end = 0\n",
    "    for j in range(0,d+1): xk_end = xk_end + D[j] * Xc[j]\n",
    "    # New variable for the state at the end of the interval\n",
    "    xk = casadi.MX.sym('x' + str(k + 1), len(x))\n",
    "    X_all.append(xk)\n",
    "    w.append(xk)\n",
    "    # Enforce continuity\n",
    "    g.append(xk_end - xk)\n",
    "    # Add contributions to the objective\n",
    "    J = J + casadi.sumsqr(uk) + casadi.sumsqr(xk)\n",
    "# Concatenate vectors\n",
    "w = casadi.vcat(w)\n",
    "g = casadi.vcat(g)\n",
    "X_all = casadi.hcat(X_all)\n",
    "U_all = casadi.hcat(U_all)\n",
    "# Create mappings from (u, x) -> (w) and back\n",
    "to_w = casadi.Function('to_w', [X_all, U_all], [w], ['x', 'u'], ['w'])\n",
    "from_w = casadi.Function('from_w', [w], [X_all, U_all], ['w'], ['x', 'u'])\n",
    "# Form the NLP\n",
    "nlp = dict(x = w, f = J, g = g)"
   ]
  },
  {
   "cell_type": "code",
   "execution_count": null,
   "id": "adjacent-masters",
   "metadata": {},
   "outputs": [],
   "source": [
    "# Let's form the Jacobian of g w.r.t. w\n",
    "t0 = time()\n",
    "jac_g_w = casadi.jacobian(g, w)\n",
    "print('Symbolic expression for Jacobian of g w.r.t w formed in %g s' % (time() - t0))\n",
    "# Create a function for evaluation\n",
    "t0 = time()\n",
    "jfcn = casadi.Function('jfcn', [w], [jac_g_w], ['w'], ['jac_g_w'])\n",
    "print('Jacobian function formed in %g s' % (time() - t0))\n",
    "# Evaluate function\n",
    "w_test = to_w(u = u_test, x = x0)['w']\n",
    "t0 = time()\n",
    "J_test = jfcn(w_test)\n",
    "print('Jacobian evaluated in %g s' % (time() - t0))\n",
    "# Let's look at the sparsity pattern\n",
    "plt.spy(J_test.sparse())\n",
    "plt.show()"
   ]
  },
  {
   "cell_type": "markdown",
   "id": "perfect-samoa",
   "metadata": {},
   "source": [
    "Formulate as a noninear program. In CasADi, they take the form:\n",
    " $$ \\begin{array}{cl}\n",
    " \\text{minimize} &  f(x, p) \\\\\n",
    "    \\text{subject to} & \\underline{x} \\le x \\le \\overline{x} \\\\\n",
    "     & \\underline{g} \\le g(x, p) \\le \\overline{g} \\\\\n",
    "     & p = \\underline{\\overline{p}}\n",
    "    \\end{array}\n",
    "     $$\n",
    "     \n",
    "CasADi will generate efficient derivative information and pass it to the specific solver\n",
    "\n",
    "Multiple solver plugins, including IPOPT:"
   ]
  },
  {
   "cell_type": "code",
   "execution_count": null,
   "id": "infrared-trial",
   "metadata": {},
   "outputs": [],
   "source": [
    "# Create an IPOPT instance, using L-BFGS\n",
    "opts = dict(ipopt = dict(hessian_approximation = 'exact', linear_solver = 'mumps'))\n",
    "solver = casadi.nlpsol('solver', 'ipopt', nlp, opts)"
   ]
  },
  {
   "cell_type": "code",
   "execution_count": null,
   "id": "scientific-console",
   "metadata": {},
   "outputs": [],
   "source": [
    "# Generate initial guess for w\n",
    "w0 = to_w(u = 0, x = x0)['w']\n",
    "# Lower bound for w\n",
    "lbw = to_w(u = lbu, x = lbx)['w']\n",
    "# Upper bound for w\n",
    "ubw = to_w(u = ubu, x = ubx)['w']\n",
    "# Solve NLP\n",
    "sol = solver(x0 = w0, lbx = lbw, ubx = ubw, lbg = 0, ubg = 0)"
   ]
  },
  {
   "cell_type": "code",
   "execution_count": null,
   "id": "aab6c46d",
   "metadata": {},
   "outputs": [],
   "source": [
    "sol"
   ]
  },
  {
   "cell_type": "code",
   "execution_count": null,
   "id": "logical-tobacco",
   "metadata": {},
   "outputs": [],
   "source": [
    "# Extract solution\n",
    "w_sorted = from_w(w = sol['x'])\n",
    "x_opt = w_sorted['x']\n",
    "u_opt = w_sorted['u']\n",
    "# Add x0 to the beginning of x\n",
    "x_opt = casadi.horzcat(x0, x_opt)\n",
    "# Only keep the points at the interval boundaries\n",
    "x_opt = x_opt[:, 0::d+1]\n",
    "# Convert to numpy arrays\n",
    "x_opt = x_opt.full()\n",
    "u_opt = u_opt.full()\n",
    "# Plot solution\n",
    "plt.figure()\n",
    "plt.plot(x_opt[0,:], x_opt[1,:])\n",
    "plt.xlabel(x[0])\n",
    "plt.ylabel(x[1])\n",
    "plt.title(\"Optimal state trajectory\")\n",
    "plt.grid(True)\n",
    "# Also plot as a function of time\n",
    "grid = np.linspace(0, T, N+1)\n",
    "# Plot the results\n",
    "plt.figure()\n",
    "plt.clf()\n",
    "plt.plot(grid, x_opt[0,:],'--', label = x[0])\n",
    "plt.plot(grid, x_opt[1,:],'-.', label = x[1])\n",
    "plt.step(grid, np.concatenate(([np.nan], u_opt[0,:])),'-', label = u[0])\n",
    "plt.title(\"Optimal solution\")\n",
    "plt.xlabel('time')\n",
    "plt.legend()\n",
    "plt.grid()"
   ]
  },
  {
   "cell_type": "markdown",
   "id": "rubber-stick",
   "metadata": {},
   "source": [
    "## Summary\n",
    " * New general-purpose FMI interface to CasADi\n",
    "   - Mutable interface to XML: DaeBuilder\n",
    "   - Function interface to DLL: FmuFunction\n",
    " * Jacobian calculation:\n",
    "   - Sparsity exploitation\n",
    "   - Parallelized\n",
    "   - AD or FD\n",
    "   - Higher order FD schemes\n",
    "   - FD respects variable bounds\n",
    "   - User can control step sizes by modifying nominal values\n",
    "   - Diagnostics, e.g. using FD to validate AD\n",
    " * Hessian calculation:\n",
    "   - AD for first order, FD for second order\n",
    "   - Sparsity information using \"DependenciesKind\" in FMU\n",
    "   - Parallelized\n",
    "   - Diagnostics, e.g. symmetry check\n",
    " * New ODE simulation class in CasADi\n",
    " * Proof-of-concept adjoint sensitivity analysis\n",
    " * Proof-of-concept dynamic optimization with second derivatives"
   ]
  },
  {
   "cell_type": "markdown",
   "id": "presidential-wiring",
   "metadata": {},
   "source": [
    "## Outlook\n",
    " * Use for challenging problems\n",
    " * Break up complex system models into aggregated component models\n",
    "   - Faster compilation\n",
    "   - Easier reuse\n",
    "   - Faster derivative calculations\n",
    " * Handle hybrid dynamics\n",
    "   - Idea: Make it easy to reformulate as multi-stage problem"
   ]
  },
  {
   "cell_type": "markdown",
   "id": "given-easter",
   "metadata": {},
   "source": [
    "## Possible extensions\n",
    " * Analytic second derivatives using source code FMU\n",
    " * Code generation\n",
    "   - Embed FMU calls into self-contained generated C code. Link statically with FMU.\n",
    " * Symbolic model import, revisited\n",
    "   - Update OCT-CasADi workflow\n",
    " * Model-predictive control\n",
    "   - Interface with ACADOS (https://github.com/acados/acados) for NMPC, NMHE, etc?"
   ]
  },
  {
   "cell_type": "code",
   "execution_count": null,
   "id": "centered-lending",
   "metadata": {},
   "outputs": [],
   "source": []
  }
 ],
 "metadata": {
  "kernelspec": {
   "display_name": "Python 3 (ipykernel)",
   "language": "python",
   "name": "python3"
  },
  "language_info": {
   "codemirror_mode": {
    "name": "ipython",
    "version": 3
   },
   "file_extension": ".py",
   "mimetype": "text/x-python",
   "name": "python",
   "nbconvert_exporter": "python",
   "pygments_lexer": "ipython3",
   "version": "3.10.6"
  }
 },
 "nbformat": 4,
 "nbformat_minor": 5
}
