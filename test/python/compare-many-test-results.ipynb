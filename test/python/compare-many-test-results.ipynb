{
 "cells": [
  {
   "cell_type": "code",
   "execution_count": 1,
   "id": "wanted-compilation",
   "metadata": {},
   "outputs": [
    {
     "output_type": "display_data",
     "data": {
      "text/plain": "<IPython.core.display.HTML object>",
      "text/html": "<style>.container { width:100% !important; }</style>"
     },
     "metadata": {}
    }
   ],
   "source": [
    "from os.path import join, dirname, basename, splitext, abspath\n",
    "from glob import glob\n",
    "import pandas as pd\n",
    "import yaml\n",
    "import platform\n",
    "from datetime import timedelta\n",
    "from IPython.display import display\n",
    "from IPython.core.display import display, HTML\n",
    "import platform\n",
    "from util.loader import load_raw_data, convert_data\n",
    "display(HTML(\"<style>.container { width:100% !important; }</style>\"))\n",
    "\n",
    "this_folder = dirname(__file__) if '__file__' in globals() else abspath('')\n",
    "root_folder = dirname(dirname(this_folder))\n",
    "def get_test_result_folder(testname = 'baseline'):\n",
    "    return join(root_folder, 'test', 'testresults', 'XPS-15-9560', testname, 'CUTEst')\n",
    "\n",
    "def color_negative_red(val):\n",
    "    color = 'red' if val < 0 else 'black'\n",
    "    return f'color: {color}'\n",
    "def color_negative_red_positive_green(val):\n",
    "    if val > 0:\n",
    "        return 'color: green'\n",
    "    elif val < 0:\n",
    "        return 'color: red'\n",
    "    else:\n",
    "        return ''"
   ]
  },
  {
   "cell_type": "code",
   "execution_count": 2,
   "id": "understanding-counter",
   "metadata": {},
   "outputs": [],
   "source": [
    "tests = [\n",
    "    'panoc-lbfgs-boxnqp',\n",
    "    'panoc-slbfgs-boxnqp',\n",
    "    'lbfgspp-boxnqp',\n",
    "    'lbfgsbpp-boxnqp',\n",
    "]\n",
    "results_folders = [ get_test_result_folder(t) for t in tests ]"
   ]
  },
  {
   "cell_type": "code",
   "execution_count": 3,
   "id": "worldwide-there",
   "metadata": {
    "scrolled": true
   },
   "outputs": [],
   "source": [
    "results_raw = [ load_raw_data(f) for f in results_folders ]"
   ]
  },
  {
   "cell_type": "code",
   "execution_count": 4,
   "id": "engaging-blackberry",
   "metadata": {},
   "outputs": [],
   "source": [
    "results_df = [ convert_data(r) for r in results_raw ]"
   ]
  },
  {
   "cell_type": "code",
   "execution_count": 5,
   "id": "editorial-acquisition",
   "metadata": {},
   "outputs": [],
   "source": [
    "def df_stats(df):\n",
    "    conv = df['status'].value_counts()['Converged']\n",
    "    tot = df['status'].count()\n",
    "    tot_time = df['time'].sum()\n",
    "    conv_time = df[df['status'] == 'Converged']['time'].sum()\n",
    "    print(f'Converged:      {conv}/{tot} = {100*conv/tot:.02f}%')\n",
    "    print(f'Total time:     {tot_time:.03f}s')\n",
    "    print(f'Converged time: {conv_time:.03f}s')"
   ]
  },
  {
   "cell_type": "code",
   "execution_count": 6,
   "id": "friendly-sixth",
   "metadata": {},
   "outputs": [
    {
     "output_type": "stream",
     "name": "stdout",
     "text": [
      "panoc-lbfgs-boxnqp\n---\n\nConverged:      138/219 = 63.01%\nTotal time:     1860.495s\nConverged time: 164.391s\n\n\npanoc-slbfgs-boxnqp\n---\n\nConverged:      143/219 = 65.30%\nTotal time:     1880.364s\nConverged time: 227.101s\n\n\nlbfgspp-boxnqp\n---\n\nConverged:      117/219 = 53.42%\nTotal time:     815.933s\nConverged time: 251.718s\n\n\nlbfgsbpp-boxnqp\n---\n\nConverged:      150/219 = 68.49%\nTotal time:     1070.354s\nConverged time: 96.082s\n\n\n"
     ]
    }
   ],
   "source": [
    "for test, df in zip(tests, results_df):\n",
    "    print(test + '\\n---\\n')\n",
    "    df_stats(df)\n",
    "    print('\\n')"
   ]
  },
  {
   "cell_type": "code",
   "execution_count": 7,
   "id": "armed-product",
   "metadata": {
    "scrolled": true
   },
   "outputs": [
    {
     "output_type": "stream",
     "name": "stdout",
     "text": [
      "Converged in all tests: 79\n\t\t\tpanoc-lbfgs-boxnqp\tpanoc-slbfgs-boxnqp\tlbfgspp-boxnqp\tlbfgsbpp-boxnqp\nTime:                  \t27.461838000000004\t35.551465\t8.878687999999999\t5.214641\nObjective evaluations: \t409942\t373863\t34812\t19193\nGradient evaluations:  \t363342\t316104\t34132\t18545\nOuter iterations:      \t770\t712\t680\t648\nInner iterations:      \t160001\t130252\t25561\t15379\nLinesearch failures:   \t4287\t5979\t0\t0\nL-BFGS failures:       \t0\t0\t0\t0\nL-BFGS rejected:       \t3109\t2094\t0\t0\n"
     ]
    }
   ],
   "source": [
    "all_converged = None \n",
    "for df in results_df:\n",
    "      all_converged = (df['status'] == 'Converged') if all_converged is None else all_converged & (df['status'] == 'Converged')\n",
    "print(f\"Converged in all tests: {len(results_df[0][all_converged].index)}\")\n",
    "\n",
    "stats = [\n",
    "    ('Time:                  ', lambda d: d['time'].sum()),\n",
    "    ('Objective evaluations: ', lambda d: d['f evaluations'].sum()),\n",
    "    ('Gradient evaluations:  ', lambda d: d['grad_f evaluations'].sum()),\n",
    "    ('Outer iterations:      ', lambda d: d['outer iterations'].sum()),\n",
    "    ('Inner iterations:      ', lambda d: d['inner iterations'].sum()),\n",
    "    ('Linesearch failures:   ', lambda d: d['linesearch failures'].sum()),\n",
    "    ('L-BFGS failures:       ', lambda d: d['L-BFGS failures'].sum()),\n",
    "    ('L-BFGS rejected:       ', lambda d: d['L-BFGS rejected'].sum()),\n",
    "]\n",
    "\n",
    "print('\\t\\t\\t' + '\\t'.join(tests))\n",
    "for stat, fun in stats:\n",
    "      res = [ str(fun(df[all_converged])) for df in results_df]\n",
    "      print(stat + '\\t' + '\\t'.join(res))"
   ]
  },
  {
   "cell_type": "code",
   "execution_count": 8,
   "metadata": {},
   "outputs": [
    {
     "output_type": "execute_result",
     "data": {
      "text/plain": [
       "        status      time  inner iterations  outer iterations  \\\n",
       "name                                                           \n",
       "HS2NE  MaxIter  0.007519              4243               200   \n",
       "\n",
       "       inner convergence failures    f    ε         δ  f evaluations  \\\n",
       "name                                                                   \n",
       "HS2NE                         191  0.0  5.5  2.215671           9648   \n",
       "\n",
       "       grad_f evaluations  ...  grad_g evaluations  linesearch failures  \\\n",
       "name                       ...                                            \n",
       "HS2NE                9434  ...                9434                   37   \n",
       "\n",
       "       L-BFGS failures  L-BFGS rejected           ‖Σ‖       ‖x‖           ‖y‖  \\\n",
       "name                                                                            \n",
       "HS2NE                0             4161  1.081367e+15  1.930766  2.217545e+15   \n",
       "\n",
       "       n  m  box constr x  \n",
       "name                       \n",
       "HS2NE  2  2             1  \n",
       "\n",
       "[1 rows x 21 columns]"
      ],
      "text/html": "<div>\n<style scoped>\n    .dataframe tbody tr th:only-of-type {\n        vertical-align: middle;\n    }\n\n    .dataframe tbody tr th {\n        vertical-align: top;\n    }\n\n    .dataframe thead th {\n        text-align: right;\n    }\n</style>\n<table border=\"1\" class=\"dataframe\">\n  <thead>\n    <tr style=\"text-align: right;\">\n      <th></th>\n      <th>status</th>\n      <th>time</th>\n      <th>inner iterations</th>\n      <th>outer iterations</th>\n      <th>inner convergence failures</th>\n      <th>f</th>\n      <th>ε</th>\n      <th>δ</th>\n      <th>f evaluations</th>\n      <th>grad_f evaluations</th>\n      <th>...</th>\n      <th>grad_g evaluations</th>\n      <th>linesearch failures</th>\n      <th>L-BFGS failures</th>\n      <th>L-BFGS rejected</th>\n      <th>‖Σ‖</th>\n      <th>‖x‖</th>\n      <th>‖y‖</th>\n      <th>n</th>\n      <th>m</th>\n      <th>box constr x</th>\n    </tr>\n    <tr>\n      <th>name</th>\n      <th></th>\n      <th></th>\n      <th></th>\n      <th></th>\n      <th></th>\n      <th></th>\n      <th></th>\n      <th></th>\n      <th></th>\n      <th></th>\n      <th></th>\n      <th></th>\n      <th></th>\n      <th></th>\n      <th></th>\n      <th></th>\n      <th></th>\n      <th></th>\n      <th></th>\n      <th></th>\n      <th></th>\n    </tr>\n  </thead>\n  <tbody>\n    <tr>\n      <th>HS2NE</th>\n      <td>MaxIter</td>\n      <td>0.007519</td>\n      <td>4243</td>\n      <td>200</td>\n      <td>191</td>\n      <td>0.0</td>\n      <td>5.5</td>\n      <td>2.215671</td>\n      <td>9648</td>\n      <td>9434</td>\n      <td>...</td>\n      <td>9434</td>\n      <td>37</td>\n      <td>0</td>\n      <td>4161</td>\n      <td>1.081367e+15</td>\n      <td>1.930766</td>\n      <td>2.217545e+15</td>\n      <td>2</td>\n      <td>2</td>\n      <td>1</td>\n    </tr>\n  </tbody>\n</table>\n<p>1 rows × 21 columns</p>\n</div>"
     },
     "metadata": {},
     "execution_count": 8
    }
   ],
   "source": [
    "df = results_df[0]\n",
    "df[(df['status'] != 'Converged') & (df['n'] == 2)]"
   ]
  },
  {
   "cell_type": "code",
   "execution_count": null,
   "metadata": {},
   "outputs": [],
   "source": []
  }
 ],
 "metadata": {
  "kernelspec": {
   "name": "python3",
   "display_name": "Python 3.9.2 64-bit ('py-venv')",
   "metadata": {
    "interpreter": {
     "hash": "5d4654af3199d5fc6ec5bea3457d8073abad6f85647580598dff8c259a6b449c"
    }
   }
  },
  "language_info": {
   "codemirror_mode": {
    "name": "ipython",
    "version": 3
   },
   "file_extension": ".py",
   "mimetype": "text/x-python",
   "name": "python",
   "nbconvert_exporter": "python",
   "pygments_lexer": "ipython3",
   "version": "3.9.2-final"
  }
 },
 "nbformat": 4,
 "nbformat_minor": 5
}